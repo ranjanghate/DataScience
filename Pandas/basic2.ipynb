{
 "metadata": {
  "language_info": {
   "codemirror_mode": {
    "name": "ipython",
    "version": 3
   },
   "file_extension": ".py",
   "mimetype": "text/x-python",
   "name": "python",
   "nbconvert_exporter": "python",
   "pygments_lexer": "ipython3",
   "version": "3.7.4-final"
  },
  "orig_nbformat": 2,
  "kernelspec": {
   "name": "python37432bit4906a1d8ea384477a0e72c565e5d9cfa",
   "display_name": "Python 3.7.4 32-bit"
  }
 },
 "nbformat": 4,
 "nbformat_minor": 2,
 "cells": [
  {
   "cell_type": "code",
   "execution_count": 46,
   "metadata": {},
   "outputs": [],
   "source": [
    "import pandas as pd"
   ]
  },
  {
   "cell_type": "code",
   "execution_count": 47,
   "metadata": {},
   "outputs": [],
   "source": [
    "survey=pd.read_csv(\"survey.csv\")"
   ]
  },
  {
   "cell_type": "markdown",
   "metadata": {},
   "source": [
    "# Native Accessors"
   ]
  },
  {
   "cell_type": "code",
   "execution_count": 48,
   "metadata": {},
   "outputs": [
    {
     "output_type": "execute_result",
     "data": {
      "text/plain": "0        2019\n1        2019\n2        2019\n3        2019\n4        2019\n         ... \n32440    2013\n32441    2013\n32442    2013\n32443    2013\n32444    2013\nName: Year, Length: 32445, dtype: int64"
     },
     "metadata": {},
     "execution_count": 48
    }
   ],
   "source": [
    "survey.Year"
   ]
  },
  {
   "cell_type": "markdown",
   "metadata": {},
   "source": [
    "survey.Year and survey['Year'] will give the same result"
   ]
  },
  {
   "cell_type": "code",
   "execution_count": 49,
   "metadata": {},
   "outputs": [
    {
     "output_type": "execute_result",
     "data": {
      "text/plain": "0        2019\n1        2019\n2        2019\n3        2019\n4        2019\n         ... \n32440    2013\n32441    2013\n32442    2013\n32443    2013\n32444    2013\nName: Year, Length: 32445, dtype: int64"
     },
     "metadata": {},
     "execution_count": 49
    }
   ],
   "source": [
    "survey['Year']"
   ]
  },
  {
   "cell_type": "markdown",
   "metadata": {},
   "source": [
    "the advantage of using index operation is that it can handle reserved character in column list name <br>\n",
    "for e.g. survey.x y is not valid while survey['x y'] will work"
   ]
  },
  {
   "cell_type": "code",
   "execution_count": 50,
   "metadata": {},
   "outputs": [
    {
     "output_type": "execute_result",
     "data": {
      "text/plain": "2019"
     },
     "metadata": {},
     "execution_count": 50
    }
   ],
   "source": [
    "survey['Year'][0]"
   ]
  },
  {
   "cell_type": "code",
   "execution_count": 51,
   "metadata": {},
   "outputs": [
    {
     "output_type": "execute_result",
     "data": {
      "text/plain": "2019"
     },
     "metadata": {},
     "execution_count": 51
    }
   ],
   "source": [
    "survey.Year[0]"
   ]
  },
  {
   "cell_type": "markdown",
   "metadata": {},
   "source": [
    "Both survey['Year'][0] and survey.Year[0] give the same result "
   ]
  },
  {
   "cell_type": "markdown",
   "metadata": {},
   "source": [
    "# Index in Pandas"
   ]
  },
  {
   "cell_type": "markdown",
   "metadata": {},
   "source": [
    "### Index-based selection\n",
    "Pandas indexing works in one of two paradigms. The first is index-based selection: selecting data based on its numerical position in the data. iloc follows this paradigm"
   ]
  },
  {
   "cell_type": "code",
   "execution_count": 52,
   "metadata": {},
   "outputs": [
    {
     "output_type": "execute_result",
     "data": {
      "text/plain": "Year                                                                        2019\nIndustry_aggregation_NZSIOC                                              Level 1\nIndustry_code_NZSIOC                                                       99999\nIndustry_name_NZSIOC                                              All industries\nUnits                                                         Dollars (millions)\nVariable_code                                                                H01\nVariable_name                                                       Total income\nVariable_category                                          Financial performance\nValue                                                                    728,239\nIndustry_code_ANZSIC06         ANZSIC06 divisions A-S (excluding classes K633...\nName: 0, dtype: object"
     },
     "metadata": {},
     "execution_count": 52
    }
   ],
   "source": [
    "survey.iloc[0]\n"
   ]
  },
  {
   "cell_type": "markdown",
   "metadata": {},
   "source": [
    "Both loc and iloc are row-first, column-second. This is the opposite of what we do in native Python, which is column-first, row-second."
   ]
  },
  {
   "cell_type": "markdown",
   "metadata": {},
   "source": [
    "This means that it's marginally easier to retrieve rows, and marginally harder to get retrieve columns. To get a column with iloc, we can do the following "
   ]
  },
  {
   "cell_type": "code",
   "execution_count": 53,
   "metadata": {},
   "outputs": [
    {
     "output_type": "execute_result",
     "data": {
      "text/plain": "0        2019\n1        2019\n2        2019\n3        2019\n4        2019\n         ... \n32440    2013\n32441    2013\n32442    2013\n32443    2013\n32444    2013\nName: Year, Length: 32445, dtype: int64"
     },
     "metadata": {},
     "execution_count": 53
    }
   ],
   "source": [
    "survey.iloc[:,0]"
   ]
  },
  {
   "cell_type": "code",
   "execution_count": 54,
   "metadata": {},
   "outputs": [
    {
     "output_type": "execute_result",
     "data": {
      "text/plain": "   Year Industry_aggregation_NZSIOC Industry_code_NZSIOC Industry_name_NZSIOC  \\\n0  2019                     Level 1                99999       All industries   \n1  2019                     Level 1                99999       All industries   \n2  2019                     Level 1                99999       All industries   \n3  2019                     Level 1                99999       All industries   \n4  2019                     Level 1                99999       All industries   \n\n                Units  \n0  Dollars (millions)  \n1  Dollars (millions)  \n2  Dollars (millions)  \n3  Dollars (millions)  \n4  Dollars (millions)  ",
      "text/html": "<div>\n<style scoped>\n    .dataframe tbody tr th:only-of-type {\n        vertical-align: middle;\n    }\n\n    .dataframe tbody tr th {\n        vertical-align: top;\n    }\n\n    .dataframe thead th {\n        text-align: right;\n    }\n</style>\n<table border=\"1\" class=\"dataframe\">\n  <thead>\n    <tr style=\"text-align: right;\">\n      <th></th>\n      <th>Year</th>\n      <th>Industry_aggregation_NZSIOC</th>\n      <th>Industry_code_NZSIOC</th>\n      <th>Industry_name_NZSIOC</th>\n      <th>Units</th>\n    </tr>\n  </thead>\n  <tbody>\n    <tr>\n      <th>0</th>\n      <td>2019</td>\n      <td>Level 1</td>\n      <td>99999</td>\n      <td>All industries</td>\n      <td>Dollars (millions)</td>\n    </tr>\n    <tr>\n      <th>1</th>\n      <td>2019</td>\n      <td>Level 1</td>\n      <td>99999</td>\n      <td>All industries</td>\n      <td>Dollars (millions)</td>\n    </tr>\n    <tr>\n      <th>2</th>\n      <td>2019</td>\n      <td>Level 1</td>\n      <td>99999</td>\n      <td>All industries</td>\n      <td>Dollars (millions)</td>\n    </tr>\n    <tr>\n      <th>3</th>\n      <td>2019</td>\n      <td>Level 1</td>\n      <td>99999</td>\n      <td>All industries</td>\n      <td>Dollars (millions)</td>\n    </tr>\n    <tr>\n      <th>4</th>\n      <td>2019</td>\n      <td>Level 1</td>\n      <td>99999</td>\n      <td>All industries</td>\n      <td>Dollars (millions)</td>\n    </tr>\n  </tbody>\n</table>\n</div>"
     },
     "metadata": {},
     "execution_count": 54
    }
   ],
   "source": [
    "survey.iloc[0:5,0:5]"
   ]
  },
  {
   "cell_type": "markdown",
   "metadata": {},
   "source": [
    "We can also pass list in a iloc function\n"
   ]
  },
  {
   "cell_type": "code",
   "execution_count": 55,
   "metadata": {},
   "outputs": [
    {
     "output_type": "execute_result",
     "data": {
      "text/plain": "   Year Industry_aggregation_NZSIOC Industry_code_NZSIOC Industry_name_NZSIOC  \\\n1  2019                     Level 1                99999       All industries   \n2  2019                     Level 1                99999       All industries   \n3  2019                     Level 1                99999       All industries   \n4  2019                     Level 1                99999       All industries   \n5  2019                     Level 1                99999       All industries   \n6  2019                     Level 1                99999       All industries   \n7  2019                     Level 1                99999       All industries   \n8  2019                     Level 1                99999       All industries   \n9  2019                     Level 1                99999       All industries   \n\n                Units  \n1  Dollars (millions)  \n2  Dollars (millions)  \n3  Dollars (millions)  \n4  Dollars (millions)  \n5  Dollars (millions)  \n6  Dollars (millions)  \n7  Dollars (millions)  \n8  Dollars (millions)  \n9  Dollars (millions)  ",
      "text/html": "<div>\n<style scoped>\n    .dataframe tbody tr th:only-of-type {\n        vertical-align: middle;\n    }\n\n    .dataframe tbody tr th {\n        vertical-align: top;\n    }\n\n    .dataframe thead th {\n        text-align: right;\n    }\n</style>\n<table border=\"1\" class=\"dataframe\">\n  <thead>\n    <tr style=\"text-align: right;\">\n      <th></th>\n      <th>Year</th>\n      <th>Industry_aggregation_NZSIOC</th>\n      <th>Industry_code_NZSIOC</th>\n      <th>Industry_name_NZSIOC</th>\n      <th>Units</th>\n    </tr>\n  </thead>\n  <tbody>\n    <tr>\n      <th>1</th>\n      <td>2019</td>\n      <td>Level 1</td>\n      <td>99999</td>\n      <td>All industries</td>\n      <td>Dollars (millions)</td>\n    </tr>\n    <tr>\n      <th>2</th>\n      <td>2019</td>\n      <td>Level 1</td>\n      <td>99999</td>\n      <td>All industries</td>\n      <td>Dollars (millions)</td>\n    </tr>\n    <tr>\n      <th>3</th>\n      <td>2019</td>\n      <td>Level 1</td>\n      <td>99999</td>\n      <td>All industries</td>\n      <td>Dollars (millions)</td>\n    </tr>\n    <tr>\n      <th>4</th>\n      <td>2019</td>\n      <td>Level 1</td>\n      <td>99999</td>\n      <td>All industries</td>\n      <td>Dollars (millions)</td>\n    </tr>\n    <tr>\n      <th>5</th>\n      <td>2019</td>\n      <td>Level 1</td>\n      <td>99999</td>\n      <td>All industries</td>\n      <td>Dollars (millions)</td>\n    </tr>\n    <tr>\n      <th>6</th>\n      <td>2019</td>\n      <td>Level 1</td>\n      <td>99999</td>\n      <td>All industries</td>\n      <td>Dollars (millions)</td>\n    </tr>\n    <tr>\n      <th>7</th>\n      <td>2019</td>\n      <td>Level 1</td>\n      <td>99999</td>\n      <td>All industries</td>\n      <td>Dollars (millions)</td>\n    </tr>\n    <tr>\n      <th>8</th>\n      <td>2019</td>\n      <td>Level 1</td>\n      <td>99999</td>\n      <td>All industries</td>\n      <td>Dollars (millions)</td>\n    </tr>\n    <tr>\n      <th>9</th>\n      <td>2019</td>\n      <td>Level 1</td>\n      <td>99999</td>\n      <td>All industries</td>\n      <td>Dollars (millions)</td>\n    </tr>\n  </tbody>\n</table>\n</div>"
     },
     "metadata": {},
     "execution_count": 55
    }
   ],
   "source": [
    "l = [1,2,3,4,5,6,7,8,9]\n",
    "survey.iloc[l,0:5]"
   ]
  },
  {
   "cell_type": "markdown",
   "metadata": {},
   "source": [
    "## Label-based selection\n",
    "The second paradigm for attribute selection is the one followed by the loc operator: label-based selection. In this paradigm, it's the data index value, not its position, which matters"
   ]
  },
  {
   "cell_type": "code",
   "execution_count": 56,
   "metadata": {},
   "outputs": [
    {
     "output_type": "execute_result",
     "data": {
      "text/plain": "0    2019\n1    2019\n2    2019\n3    2019\n4    2019\n5    2019\nName: Year, dtype: int64"
     },
     "metadata": {},
     "execution_count": 56
    }
   ],
   "source": [
    "survey.loc[0:5,'Year'] # gives first 5 row of column year"
   ]
  },
  {
   "cell_type": "markdown",
   "metadata": {},
   "source": [
    "Choosing between loc and iloc\n",
    "When choosing or transitioning between loc and iloc, there is one \"gotcha\" worth keeping in mind, which is that the two methods use slightly different indexing schemes.\n",
    "\n",
    "iloc uses the Python stdlib indexing scheme, where the first element of the range is included and the last one excluded. So 0:10 will select entries 0,...,9. loc, meanwhile, indexes inclusively. So 0:10 will select entries 0,...,10.\n",
    "\n",
    "Why the change? Remember that loc can index any stdlib type: strings, for example. If we have a DataFrame with index values Apples, ..., Potatoes, ..., and we want to select \"all the alphabetical fruit choices between Apples and Potatoes\", then it's a lot more convenient to index df.loc\\['Apples':'Potatoes'] than it is to index something like df.loc\\['Apples', 'Potatoet] (t coming after s in the alphabet)."
   ]
  },
  {
   "cell_type": "markdown",
   "metadata": {},
   "source": [
    "# Manipulating the Index"
   ]
  },
  {
   "cell_type": "code",
   "execution_count": 57,
   "metadata": {},
   "outputs": [
    {
     "output_type": "execute_result",
     "data": {
      "text/plain": "         Year Industry_aggregation_NZSIOC Industry_code_NZSIOC  \\\nValue                                                            \n728,239  2019                     Level 1                99999   \n643,809  2019                     Level 1                99999   \n62,924   2019                     Level 1                99999   \n21,505   2019                     Level 1                99999   \n634,710  2019                     Level 1                99999   \n...       ...                         ...                  ...   \n52       2013                     Level 3                 ZZ11   \n40       2013                     Level 3                 ZZ11   \n12       2013                     Level 3                 ZZ11   \n5        2013                     Level 3                 ZZ11   \n46       2013                     Level 3                 ZZ11   \n\n               Industry_name_NZSIOC               Units Variable_code  \\\nValue                                                                   \n728,239              All industries  Dollars (millions)           H01   \n643,809              All industries  Dollars (millions)           H04   \n62,924               All industries  Dollars (millions)           H05   \n21,505               All industries  Dollars (millions)           H07   \n634,710              All industries  Dollars (millions)           H08   \n...                             ...                 ...           ...   \n52       Food product manufacturing          Percentage           H37   \n40       Food product manufacturing          Percentage           H38   \n12       Food product manufacturing          Percentage           H39   \n5        Food product manufacturing          Percentage           H40   \n46       Food product manufacturing          Percentage           H41   \n\n                                           Variable_name  \\\nValue                                                      \n728,239                                     Total income   \n643,809  Sales, government funding, grants and subsidies   \n62,924                 Interest, dividends and donations   \n21,505                              Non-operating income   \n634,710                                Total expenditure   \n...                                                  ...   \n52                                           Quick ratio   \n40                   Margin on sales of goods for resale   \n12                                      Return on equity   \n5                                 Return on total assets   \n46                                 Liabilities structure   \n\n             Variable_category  \\\nValue                            \n728,239  Financial performance   \n643,809  Financial performance   \n62,924   Financial performance   \n21,505   Financial performance   \n634,710  Financial performance   \n...                        ...   \n52            Financial ratios   \n40            Financial ratios   \n12            Financial ratios   \n5             Financial ratios   \n46            Financial ratios   \n\n                                    Industry_code_ANZSIC06  \nValue                                                       \n728,239  ANZSIC06 divisions A-S (excluding classes K633...  \n643,809  ANZSIC06 divisions A-S (excluding classes K633...  \n62,924   ANZSIC06 divisions A-S (excluding classes K633...  \n21,505   ANZSIC06 divisions A-S (excluding classes K633...  \n634,710  ANZSIC06 divisions A-S (excluding classes K633...  \n...                                                    ...  \n52       ANZSIC06 groups C111, C112, C113, C114, C115, ...  \n40       ANZSIC06 groups C111, C112, C113, C114, C115, ...  \n12       ANZSIC06 groups C111, C112, C113, C114, C115, ...  \n5        ANZSIC06 groups C111, C112, C113, C114, C115, ...  \n46       ANZSIC06 groups C111, C112, C113, C114, C115, ...  \n\n[32445 rows x 9 columns]",
      "text/html": "<div>\n<style scoped>\n    .dataframe tbody tr th:only-of-type {\n        vertical-align: middle;\n    }\n\n    .dataframe tbody tr th {\n        vertical-align: top;\n    }\n\n    .dataframe thead th {\n        text-align: right;\n    }\n</style>\n<table border=\"1\" class=\"dataframe\">\n  <thead>\n    <tr style=\"text-align: right;\">\n      <th></th>\n      <th>Year</th>\n      <th>Industry_aggregation_NZSIOC</th>\n      <th>Industry_code_NZSIOC</th>\n      <th>Industry_name_NZSIOC</th>\n      <th>Units</th>\n      <th>Variable_code</th>\n      <th>Variable_name</th>\n      <th>Variable_category</th>\n      <th>Industry_code_ANZSIC06</th>\n    </tr>\n    <tr>\n      <th>Value</th>\n      <th></th>\n      <th></th>\n      <th></th>\n      <th></th>\n      <th></th>\n      <th></th>\n      <th></th>\n      <th></th>\n      <th></th>\n    </tr>\n  </thead>\n  <tbody>\n    <tr>\n      <th>728,239</th>\n      <td>2019</td>\n      <td>Level 1</td>\n      <td>99999</td>\n      <td>All industries</td>\n      <td>Dollars (millions)</td>\n      <td>H01</td>\n      <td>Total income</td>\n      <td>Financial performance</td>\n      <td>ANZSIC06 divisions A-S (excluding classes K633...</td>\n    </tr>\n    <tr>\n      <th>643,809</th>\n      <td>2019</td>\n      <td>Level 1</td>\n      <td>99999</td>\n      <td>All industries</td>\n      <td>Dollars (millions)</td>\n      <td>H04</td>\n      <td>Sales, government funding, grants and subsidies</td>\n      <td>Financial performance</td>\n      <td>ANZSIC06 divisions A-S (excluding classes K633...</td>\n    </tr>\n    <tr>\n      <th>62,924</th>\n      <td>2019</td>\n      <td>Level 1</td>\n      <td>99999</td>\n      <td>All industries</td>\n      <td>Dollars (millions)</td>\n      <td>H05</td>\n      <td>Interest, dividends and donations</td>\n      <td>Financial performance</td>\n      <td>ANZSIC06 divisions A-S (excluding classes K633...</td>\n    </tr>\n    <tr>\n      <th>21,505</th>\n      <td>2019</td>\n      <td>Level 1</td>\n      <td>99999</td>\n      <td>All industries</td>\n      <td>Dollars (millions)</td>\n      <td>H07</td>\n      <td>Non-operating income</td>\n      <td>Financial performance</td>\n      <td>ANZSIC06 divisions A-S (excluding classes K633...</td>\n    </tr>\n    <tr>\n      <th>634,710</th>\n      <td>2019</td>\n      <td>Level 1</td>\n      <td>99999</td>\n      <td>All industries</td>\n      <td>Dollars (millions)</td>\n      <td>H08</td>\n      <td>Total expenditure</td>\n      <td>Financial performance</td>\n      <td>ANZSIC06 divisions A-S (excluding classes K633...</td>\n    </tr>\n    <tr>\n      <th>...</th>\n      <td>...</td>\n      <td>...</td>\n      <td>...</td>\n      <td>...</td>\n      <td>...</td>\n      <td>...</td>\n      <td>...</td>\n      <td>...</td>\n      <td>...</td>\n    </tr>\n    <tr>\n      <th>52</th>\n      <td>2013</td>\n      <td>Level 3</td>\n      <td>ZZ11</td>\n      <td>Food product manufacturing</td>\n      <td>Percentage</td>\n      <td>H37</td>\n      <td>Quick ratio</td>\n      <td>Financial ratios</td>\n      <td>ANZSIC06 groups C111, C112, C113, C114, C115, ...</td>\n    </tr>\n    <tr>\n      <th>40</th>\n      <td>2013</td>\n      <td>Level 3</td>\n      <td>ZZ11</td>\n      <td>Food product manufacturing</td>\n      <td>Percentage</td>\n      <td>H38</td>\n      <td>Margin on sales of goods for resale</td>\n      <td>Financial ratios</td>\n      <td>ANZSIC06 groups C111, C112, C113, C114, C115, ...</td>\n    </tr>\n    <tr>\n      <th>12</th>\n      <td>2013</td>\n      <td>Level 3</td>\n      <td>ZZ11</td>\n      <td>Food product manufacturing</td>\n      <td>Percentage</td>\n      <td>H39</td>\n      <td>Return on equity</td>\n      <td>Financial ratios</td>\n      <td>ANZSIC06 groups C111, C112, C113, C114, C115, ...</td>\n    </tr>\n    <tr>\n      <th>5</th>\n      <td>2013</td>\n      <td>Level 3</td>\n      <td>ZZ11</td>\n      <td>Food product manufacturing</td>\n      <td>Percentage</td>\n      <td>H40</td>\n      <td>Return on total assets</td>\n      <td>Financial ratios</td>\n      <td>ANZSIC06 groups C111, C112, C113, C114, C115, ...</td>\n    </tr>\n    <tr>\n      <th>46</th>\n      <td>2013</td>\n      <td>Level 3</td>\n      <td>ZZ11</td>\n      <td>Food product manufacturing</td>\n      <td>Percentage</td>\n      <td>H41</td>\n      <td>Liabilities structure</td>\n      <td>Financial ratios</td>\n      <td>ANZSIC06 groups C111, C112, C113, C114, C115, ...</td>\n    </tr>\n  </tbody>\n</table>\n<p>32445 rows × 9 columns</p>\n</div>"
     },
     "metadata": {},
     "execution_count": 57
    }
   ],
   "source": [
    "survey.set_index(\"Value\")"
   ]
  },
  {
   "cell_type": "markdown",
   "metadata": {},
   "source": [
    "# Conditional selection"
   ]
  },
  {
   "cell_type": "code",
   "execution_count": 58,
   "metadata": {},
   "outputs": [
    {
     "output_type": "execute_result",
     "data": {
      "text/plain": "0        False\n1        False\n2        False\n3        False\n4        False\n         ...  \n32440    False\n32441    False\n32442    False\n32443    False\n32444    False\nName: Year, Length: 32445, dtype: bool"
     },
     "metadata": {},
     "execution_count": 58
    }
   ],
   "source": [
    "survey.Year == 1999"
   ]
  },
  {
   "cell_type": "markdown",
   "metadata": {},
   "source": [
    "We can use condition in loc "
   ]
  },
  {
   "cell_type": "code",
   "execution_count": 62,
   "metadata": {},
   "outputs": [
    {
     "output_type": "execute_result",
     "data": {
      "text/plain": "       Year Industry_aggregation_NZSIOC Industry_code_NZSIOC  \\\n27810  2013                     Level 1                99999   \n27811  2013                     Level 1                99999   \n27812  2013                     Level 1                99999   \n27813  2013                     Level 1                99999   \n27814  2013                     Level 1                99999   \n...     ...                         ...                  ...   \n32440  2013                     Level 3                 ZZ11   \n32441  2013                     Level 3                 ZZ11   \n32442  2013                     Level 3                 ZZ11   \n32443  2013                     Level 3                 ZZ11   \n32444  2013                     Level 3                 ZZ11   \n\n             Industry_name_NZSIOC               Units Variable_code  \\\n27810              All industries  Dollars (millions)           H01   \n27811              All industries  Dollars (millions)           H04   \n27812              All industries  Dollars (millions)           H05   \n27813              All industries  Dollars (millions)           H07   \n27814              All industries  Dollars (millions)           H08   \n...                           ...                 ...           ...   \n32440  Food product manufacturing          Percentage           H37   \n32441  Food product manufacturing          Percentage           H38   \n32442  Food product manufacturing          Percentage           H39   \n32443  Food product manufacturing          Percentage           H40   \n32444  Food product manufacturing          Percentage           H41   \n\n                                         Variable_name      Variable_category  \\\n27810                                     Total income  Financial performance   \n27811  Sales, government funding, grants and subsidies  Financial performance   \n27812                Interest, dividends and donations  Financial performance   \n27813                             Non-operating income  Financial performance   \n27814                                Total expenditure  Financial performance   \n...                                                ...                    ...   \n32440                                      Quick ratio       Financial ratios   \n32441              Margin on sales of goods for resale       Financial ratios   \n32442                                 Return on equity       Financial ratios   \n32443                           Return on total assets       Financial ratios   \n32444                            Liabilities structure       Financial ratios   \n\n        Value                             Industry_code_ANZSIC06  \n27810  541042  ANZSIC06 divisions A-S (excluding classes K633...  \n27811  473662  ANZSIC06 divisions A-S (excluding classes K633...  \n27812   53770  ANZSIC06 divisions A-S (excluding classes K633...  \n27813   13610  ANZSIC06 divisions A-S (excluding classes K633...  \n27814  488612  ANZSIC06 divisions A-S (excluding classes K633...  \n...       ...                                                ...  \n32440      52  ANZSIC06 groups C111, C112, C113, C114, C115, ...  \n32441      40  ANZSIC06 groups C111, C112, C113, C114, C115, ...  \n32442      12  ANZSIC06 groups C111, C112, C113, C114, C115, ...  \n32443       5  ANZSIC06 groups C111, C112, C113, C114, C115, ...  \n32444      46  ANZSIC06 groups C111, C112, C113, C114, C115, ...  \n\n[4635 rows x 10 columns]",
      "text/html": "<div>\n<style scoped>\n    .dataframe tbody tr th:only-of-type {\n        vertical-align: middle;\n    }\n\n    .dataframe tbody tr th {\n        vertical-align: top;\n    }\n\n    .dataframe thead th {\n        text-align: right;\n    }\n</style>\n<table border=\"1\" class=\"dataframe\">\n  <thead>\n    <tr style=\"text-align: right;\">\n      <th></th>\n      <th>Year</th>\n      <th>Industry_aggregation_NZSIOC</th>\n      <th>Industry_code_NZSIOC</th>\n      <th>Industry_name_NZSIOC</th>\n      <th>Units</th>\n      <th>Variable_code</th>\n      <th>Variable_name</th>\n      <th>Variable_category</th>\n      <th>Value</th>\n      <th>Industry_code_ANZSIC06</th>\n    </tr>\n  </thead>\n  <tbody>\n    <tr>\n      <th>27810</th>\n      <td>2013</td>\n      <td>Level 1</td>\n      <td>99999</td>\n      <td>All industries</td>\n      <td>Dollars (millions)</td>\n      <td>H01</td>\n      <td>Total income</td>\n      <td>Financial performance</td>\n      <td>541042</td>\n      <td>ANZSIC06 divisions A-S (excluding classes K633...</td>\n    </tr>\n    <tr>\n      <th>27811</th>\n      <td>2013</td>\n      <td>Level 1</td>\n      <td>99999</td>\n      <td>All industries</td>\n      <td>Dollars (millions)</td>\n      <td>H04</td>\n      <td>Sales, government funding, grants and subsidies</td>\n      <td>Financial performance</td>\n      <td>473662</td>\n      <td>ANZSIC06 divisions A-S (excluding classes K633...</td>\n    </tr>\n    <tr>\n      <th>27812</th>\n      <td>2013</td>\n      <td>Level 1</td>\n      <td>99999</td>\n      <td>All industries</td>\n      <td>Dollars (millions)</td>\n      <td>H05</td>\n      <td>Interest, dividends and donations</td>\n      <td>Financial performance</td>\n      <td>53770</td>\n      <td>ANZSIC06 divisions A-S (excluding classes K633...</td>\n    </tr>\n    <tr>\n      <th>27813</th>\n      <td>2013</td>\n      <td>Level 1</td>\n      <td>99999</td>\n      <td>All industries</td>\n      <td>Dollars (millions)</td>\n      <td>H07</td>\n      <td>Non-operating income</td>\n      <td>Financial performance</td>\n      <td>13610</td>\n      <td>ANZSIC06 divisions A-S (excluding classes K633...</td>\n    </tr>\n    <tr>\n      <th>27814</th>\n      <td>2013</td>\n      <td>Level 1</td>\n      <td>99999</td>\n      <td>All industries</td>\n      <td>Dollars (millions)</td>\n      <td>H08</td>\n      <td>Total expenditure</td>\n      <td>Financial performance</td>\n      <td>488612</td>\n      <td>ANZSIC06 divisions A-S (excluding classes K633...</td>\n    </tr>\n    <tr>\n      <th>...</th>\n      <td>...</td>\n      <td>...</td>\n      <td>...</td>\n      <td>...</td>\n      <td>...</td>\n      <td>...</td>\n      <td>...</td>\n      <td>...</td>\n      <td>...</td>\n      <td>...</td>\n    </tr>\n    <tr>\n      <th>32440</th>\n      <td>2013</td>\n      <td>Level 3</td>\n      <td>ZZ11</td>\n      <td>Food product manufacturing</td>\n      <td>Percentage</td>\n      <td>H37</td>\n      <td>Quick ratio</td>\n      <td>Financial ratios</td>\n      <td>52</td>\n      <td>ANZSIC06 groups C111, C112, C113, C114, C115, ...</td>\n    </tr>\n    <tr>\n      <th>32441</th>\n      <td>2013</td>\n      <td>Level 3</td>\n      <td>ZZ11</td>\n      <td>Food product manufacturing</td>\n      <td>Percentage</td>\n      <td>H38</td>\n      <td>Margin on sales of goods for resale</td>\n      <td>Financial ratios</td>\n      <td>40</td>\n      <td>ANZSIC06 groups C111, C112, C113, C114, C115, ...</td>\n    </tr>\n    <tr>\n      <th>32442</th>\n      <td>2013</td>\n      <td>Level 3</td>\n      <td>ZZ11</td>\n      <td>Food product manufacturing</td>\n      <td>Percentage</td>\n      <td>H39</td>\n      <td>Return on equity</td>\n      <td>Financial ratios</td>\n      <td>12</td>\n      <td>ANZSIC06 groups C111, C112, C113, C114, C115, ...</td>\n    </tr>\n    <tr>\n      <th>32443</th>\n      <td>2013</td>\n      <td>Level 3</td>\n      <td>ZZ11</td>\n      <td>Food product manufacturing</td>\n      <td>Percentage</td>\n      <td>H40</td>\n      <td>Return on total assets</td>\n      <td>Financial ratios</td>\n      <td>5</td>\n      <td>ANZSIC06 groups C111, C112, C113, C114, C115, ...</td>\n    </tr>\n    <tr>\n      <th>32444</th>\n      <td>2013</td>\n      <td>Level 3</td>\n      <td>ZZ11</td>\n      <td>Food product manufacturing</td>\n      <td>Percentage</td>\n      <td>H41</td>\n      <td>Liabilities structure</td>\n      <td>Financial ratios</td>\n      <td>46</td>\n      <td>ANZSIC06 groups C111, C112, C113, C114, C115, ...</td>\n    </tr>\n  </tbody>\n</table>\n<p>4635 rows × 10 columns</p>\n</div>"
     },
     "metadata": {},
     "execution_count": 62
    }
   ],
   "source": [
    "survey.loc[survey.Year==2013]"
   ]
  },
  {
   "cell_type": "markdown",
   "metadata": {},
   "source": [
    "Pandas comes with a few built-in conditional selectors, two of which we will highlight here.\n",
    "\n",
    "The first is isin. isin is lets you select data whose value \"is in\" a list of values. For example, here's how we can use it to select Year which are 2013 and 2017"
   ]
  },
  {
   "cell_type": "code",
   "execution_count": 64,
   "metadata": {},
   "outputs": [
    {
     "output_type": "execute_result",
     "data": {
      "text/plain": "       Year Industry_aggregation_NZSIOC Industry_code_NZSIOC  \\\n9270   2017                     Level 1                99999   \n9271   2017                     Level 1                99999   \n9272   2017                     Level 1                99999   \n9273   2017                     Level 1                99999   \n9274   2017                     Level 1                99999   \n...     ...                         ...                  ...   \n32440  2013                     Level 3                 ZZ11   \n32441  2013                     Level 3                 ZZ11   \n32442  2013                     Level 3                 ZZ11   \n32443  2013                     Level 3                 ZZ11   \n32444  2013                     Level 3                 ZZ11   \n\n             Industry_name_NZSIOC               Units Variable_code  \\\n9270               All industries  Dollars (millions)           H01   \n9271               All industries  Dollars (millions)           H04   \n9272               All industries  Dollars (millions)           H05   \n9273               All industries  Dollars (millions)           H07   \n9274               All industries  Dollars (millions)           H08   \n...                           ...                 ...           ...   \n32440  Food product manufacturing          Percentage           H37   \n32441  Food product manufacturing          Percentage           H38   \n32442  Food product manufacturing          Percentage           H39   \n32443  Food product manufacturing          Percentage           H40   \n32444  Food product manufacturing          Percentage           H41   \n\n                                         Variable_name      Variable_category  \\\n9270                                      Total income  Financial performance   \n9271   Sales, government funding, grants and subsidies  Financial performance   \n9272                 Interest, dividends and donations  Financial performance   \n9273                              Non-operating income  Financial performance   \n9274                                 Total expenditure  Financial performance   \n...                                                ...                    ...   \n32440                                      Quick ratio       Financial ratios   \n32441              Margin on sales of goods for resale       Financial ratios   \n32442                                 Return on equity       Financial ratios   \n32443                           Return on total assets       Financial ratios   \n32444                            Liabilities structure       Financial ratios   \n\n         Value                             Industry_code_ANZSIC06  \n9270   646,185  ANZSIC06 divisions A-S (excluding classes K633...  \n9271   567,028  ANZSIC06 divisions A-S (excluding classes K633...  \n9272    60,654  ANZSIC06 divisions A-S (excluding classes K633...  \n9273    18,504  ANZSIC06 divisions A-S (excluding classes K633...  \n9274   560,694  ANZSIC06 divisions A-S (excluding classes K633...  \n...        ...                                                ...  \n32440       52  ANZSIC06 groups C111, C112, C113, C114, C115, ...  \n32441       40  ANZSIC06 groups C111, C112, C113, C114, C115, ...  \n32442       12  ANZSIC06 groups C111, C112, C113, C114, C115, ...  \n32443        5  ANZSIC06 groups C111, C112, C113, C114, C115, ...  \n32444       46  ANZSIC06 groups C111, C112, C113, C114, C115, ...  \n\n[9270 rows x 10 columns]",
      "text/html": "<div>\n<style scoped>\n    .dataframe tbody tr th:only-of-type {\n        vertical-align: middle;\n    }\n\n    .dataframe tbody tr th {\n        vertical-align: top;\n    }\n\n    .dataframe thead th {\n        text-align: right;\n    }\n</style>\n<table border=\"1\" class=\"dataframe\">\n  <thead>\n    <tr style=\"text-align: right;\">\n      <th></th>\n      <th>Year</th>\n      <th>Industry_aggregation_NZSIOC</th>\n      <th>Industry_code_NZSIOC</th>\n      <th>Industry_name_NZSIOC</th>\n      <th>Units</th>\n      <th>Variable_code</th>\n      <th>Variable_name</th>\n      <th>Variable_category</th>\n      <th>Value</th>\n      <th>Industry_code_ANZSIC06</th>\n    </tr>\n  </thead>\n  <tbody>\n    <tr>\n      <th>9270</th>\n      <td>2017</td>\n      <td>Level 1</td>\n      <td>99999</td>\n      <td>All industries</td>\n      <td>Dollars (millions)</td>\n      <td>H01</td>\n      <td>Total income</td>\n      <td>Financial performance</td>\n      <td>646,185</td>\n      <td>ANZSIC06 divisions A-S (excluding classes K633...</td>\n    </tr>\n    <tr>\n      <th>9271</th>\n      <td>2017</td>\n      <td>Level 1</td>\n      <td>99999</td>\n      <td>All industries</td>\n      <td>Dollars (millions)</td>\n      <td>H04</td>\n      <td>Sales, government funding, grants and subsidies</td>\n      <td>Financial performance</td>\n      <td>567,028</td>\n      <td>ANZSIC06 divisions A-S (excluding classes K633...</td>\n    </tr>\n    <tr>\n      <th>9272</th>\n      <td>2017</td>\n      <td>Level 1</td>\n      <td>99999</td>\n      <td>All industries</td>\n      <td>Dollars (millions)</td>\n      <td>H05</td>\n      <td>Interest, dividends and donations</td>\n      <td>Financial performance</td>\n      <td>60,654</td>\n      <td>ANZSIC06 divisions A-S (excluding classes K633...</td>\n    </tr>\n    <tr>\n      <th>9273</th>\n      <td>2017</td>\n      <td>Level 1</td>\n      <td>99999</td>\n      <td>All industries</td>\n      <td>Dollars (millions)</td>\n      <td>H07</td>\n      <td>Non-operating income</td>\n      <td>Financial performance</td>\n      <td>18,504</td>\n      <td>ANZSIC06 divisions A-S (excluding classes K633...</td>\n    </tr>\n    <tr>\n      <th>9274</th>\n      <td>2017</td>\n      <td>Level 1</td>\n      <td>99999</td>\n      <td>All industries</td>\n      <td>Dollars (millions)</td>\n      <td>H08</td>\n      <td>Total expenditure</td>\n      <td>Financial performance</td>\n      <td>560,694</td>\n      <td>ANZSIC06 divisions A-S (excluding classes K633...</td>\n    </tr>\n    <tr>\n      <th>...</th>\n      <td>...</td>\n      <td>...</td>\n      <td>...</td>\n      <td>...</td>\n      <td>...</td>\n      <td>...</td>\n      <td>...</td>\n      <td>...</td>\n      <td>...</td>\n      <td>...</td>\n    </tr>\n    <tr>\n      <th>32440</th>\n      <td>2013</td>\n      <td>Level 3</td>\n      <td>ZZ11</td>\n      <td>Food product manufacturing</td>\n      <td>Percentage</td>\n      <td>H37</td>\n      <td>Quick ratio</td>\n      <td>Financial ratios</td>\n      <td>52</td>\n      <td>ANZSIC06 groups C111, C112, C113, C114, C115, ...</td>\n    </tr>\n    <tr>\n      <th>32441</th>\n      <td>2013</td>\n      <td>Level 3</td>\n      <td>ZZ11</td>\n      <td>Food product manufacturing</td>\n      <td>Percentage</td>\n      <td>H38</td>\n      <td>Margin on sales of goods for resale</td>\n      <td>Financial ratios</td>\n      <td>40</td>\n      <td>ANZSIC06 groups C111, C112, C113, C114, C115, ...</td>\n    </tr>\n    <tr>\n      <th>32442</th>\n      <td>2013</td>\n      <td>Level 3</td>\n      <td>ZZ11</td>\n      <td>Food product manufacturing</td>\n      <td>Percentage</td>\n      <td>H39</td>\n      <td>Return on equity</td>\n      <td>Financial ratios</td>\n      <td>12</td>\n      <td>ANZSIC06 groups C111, C112, C113, C114, C115, ...</td>\n    </tr>\n    <tr>\n      <th>32443</th>\n      <td>2013</td>\n      <td>Level 3</td>\n      <td>ZZ11</td>\n      <td>Food product manufacturing</td>\n      <td>Percentage</td>\n      <td>H40</td>\n      <td>Return on total assets</td>\n      <td>Financial ratios</td>\n      <td>5</td>\n      <td>ANZSIC06 groups C111, C112, C113, C114, C115, ...</td>\n    </tr>\n    <tr>\n      <th>32444</th>\n      <td>2013</td>\n      <td>Level 3</td>\n      <td>ZZ11</td>\n      <td>Food product manufacturing</td>\n      <td>Percentage</td>\n      <td>H41</td>\n      <td>Liabilities structure</td>\n      <td>Financial ratios</td>\n      <td>46</td>\n      <td>ANZSIC06 groups C111, C112, C113, C114, C115, ...</td>\n    </tr>\n  </tbody>\n</table>\n<p>9270 rows × 10 columns</p>\n</div>"
     },
     "metadata": {},
     "execution_count": 64
    }
   ],
   "source": [
    "survey.loc[survey.Year.isin([2013,2017])]"
   ]
  },
  {
   "cell_type": "markdown",
   "metadata": {},
   "source": [
    "The second is isnull (and its companion notnull). These methods let you highlight values which are (or are not) empty (NaN). For example, to filter out values lacking a price tag in the dataset, here's what we would do"
   ]
  },
  {
   "cell_type": "code",
   "execution_count": 67,
   "metadata": {},
   "outputs": [
    {
     "output_type": "execute_result",
     "data": {
      "text/plain": "Empty DataFrame\nColumns: [Year, Industry_aggregation_NZSIOC, Industry_code_NZSIOC, Industry_name_NZSIOC, Units, Variable_code, Variable_name, Variable_category, Value, Industry_code_ANZSIC06]\nIndex: []",
      "text/html": "<div>\n<style scoped>\n    .dataframe tbody tr th:only-of-type {\n        vertical-align: middle;\n    }\n\n    .dataframe tbody tr th {\n        vertical-align: top;\n    }\n\n    .dataframe thead th {\n        text-align: right;\n    }\n</style>\n<table border=\"1\" class=\"dataframe\">\n  <thead>\n    <tr style=\"text-align: right;\">\n      <th></th>\n      <th>Year</th>\n      <th>Industry_aggregation_NZSIOC</th>\n      <th>Industry_code_NZSIOC</th>\n      <th>Industry_name_NZSIOC</th>\n      <th>Units</th>\n      <th>Variable_code</th>\n      <th>Variable_name</th>\n      <th>Variable_category</th>\n      <th>Value</th>\n      <th>Industry_code_ANZSIC06</th>\n    </tr>\n  </thead>\n  <tbody>\n  </tbody>\n</table>\n</div>"
     },
     "metadata": {},
     "execution_count": 67
    }
   ],
   "source": [
    "survey.loc[survey.Value.isnull()]"
   ]
  },
  {
   "cell_type": "code",
   "execution_count": 68,
   "metadata": {},
   "outputs": [
    {
     "output_type": "execute_result",
     "data": {
      "text/plain": "       Year Industry_aggregation_NZSIOC Industry_code_NZSIOC  \\\n0      2019                     Level 1                99999   \n1      2019                     Level 1                99999   \n2      2019                     Level 1                99999   \n3      2019                     Level 1                99999   \n4      2019                     Level 1                99999   \n...     ...                         ...                  ...   \n32440  2013                     Level 3                 ZZ11   \n32441  2013                     Level 3                 ZZ11   \n32442  2013                     Level 3                 ZZ11   \n32443  2013                     Level 3                 ZZ11   \n32444  2013                     Level 3                 ZZ11   \n\n             Industry_name_NZSIOC               Units Variable_code  \\\n0                  All industries  Dollars (millions)           H01   \n1                  All industries  Dollars (millions)           H04   \n2                  All industries  Dollars (millions)           H05   \n3                  All industries  Dollars (millions)           H07   \n4                  All industries  Dollars (millions)           H08   \n...                           ...                 ...           ...   \n32440  Food product manufacturing          Percentage           H37   \n32441  Food product manufacturing          Percentage           H38   \n32442  Food product manufacturing          Percentage           H39   \n32443  Food product manufacturing          Percentage           H40   \n32444  Food product manufacturing          Percentage           H41   \n\n                                         Variable_name      Variable_category  \\\n0                                         Total income  Financial performance   \n1      Sales, government funding, grants and subsidies  Financial performance   \n2                    Interest, dividends and donations  Financial performance   \n3                                 Non-operating income  Financial performance   \n4                                    Total expenditure  Financial performance   \n...                                                ...                    ...   \n32440                                      Quick ratio       Financial ratios   \n32441              Margin on sales of goods for resale       Financial ratios   \n32442                                 Return on equity       Financial ratios   \n32443                           Return on total assets       Financial ratios   \n32444                            Liabilities structure       Financial ratios   \n\n         Value                             Industry_code_ANZSIC06  \n0      728,239  ANZSIC06 divisions A-S (excluding classes K633...  \n1      643,809  ANZSIC06 divisions A-S (excluding classes K633...  \n2       62,924  ANZSIC06 divisions A-S (excluding classes K633...  \n3       21,505  ANZSIC06 divisions A-S (excluding classes K633...  \n4      634,710  ANZSIC06 divisions A-S (excluding classes K633...  \n...        ...                                                ...  \n32440       52  ANZSIC06 groups C111, C112, C113, C114, C115, ...  \n32441       40  ANZSIC06 groups C111, C112, C113, C114, C115, ...  \n32442       12  ANZSIC06 groups C111, C112, C113, C114, C115, ...  \n32443        5  ANZSIC06 groups C111, C112, C113, C114, C115, ...  \n32444       46  ANZSIC06 groups C111, C112, C113, C114, C115, ...  \n\n[32445 rows x 10 columns]",
      "text/html": "<div>\n<style scoped>\n    .dataframe tbody tr th:only-of-type {\n        vertical-align: middle;\n    }\n\n    .dataframe tbody tr th {\n        vertical-align: top;\n    }\n\n    .dataframe thead th {\n        text-align: right;\n    }\n</style>\n<table border=\"1\" class=\"dataframe\">\n  <thead>\n    <tr style=\"text-align: right;\">\n      <th></th>\n      <th>Year</th>\n      <th>Industry_aggregation_NZSIOC</th>\n      <th>Industry_code_NZSIOC</th>\n      <th>Industry_name_NZSIOC</th>\n      <th>Units</th>\n      <th>Variable_code</th>\n      <th>Variable_name</th>\n      <th>Variable_category</th>\n      <th>Value</th>\n      <th>Industry_code_ANZSIC06</th>\n    </tr>\n  </thead>\n  <tbody>\n    <tr>\n      <th>0</th>\n      <td>2019</td>\n      <td>Level 1</td>\n      <td>99999</td>\n      <td>All industries</td>\n      <td>Dollars (millions)</td>\n      <td>H01</td>\n      <td>Total income</td>\n      <td>Financial performance</td>\n      <td>728,239</td>\n      <td>ANZSIC06 divisions A-S (excluding classes K633...</td>\n    </tr>\n    <tr>\n      <th>1</th>\n      <td>2019</td>\n      <td>Level 1</td>\n      <td>99999</td>\n      <td>All industries</td>\n      <td>Dollars (millions)</td>\n      <td>H04</td>\n      <td>Sales, government funding, grants and subsidies</td>\n      <td>Financial performance</td>\n      <td>643,809</td>\n      <td>ANZSIC06 divisions A-S (excluding classes K633...</td>\n    </tr>\n    <tr>\n      <th>2</th>\n      <td>2019</td>\n      <td>Level 1</td>\n      <td>99999</td>\n      <td>All industries</td>\n      <td>Dollars (millions)</td>\n      <td>H05</td>\n      <td>Interest, dividends and donations</td>\n      <td>Financial performance</td>\n      <td>62,924</td>\n      <td>ANZSIC06 divisions A-S (excluding classes K633...</td>\n    </tr>\n    <tr>\n      <th>3</th>\n      <td>2019</td>\n      <td>Level 1</td>\n      <td>99999</td>\n      <td>All industries</td>\n      <td>Dollars (millions)</td>\n      <td>H07</td>\n      <td>Non-operating income</td>\n      <td>Financial performance</td>\n      <td>21,505</td>\n      <td>ANZSIC06 divisions A-S (excluding classes K633...</td>\n    </tr>\n    <tr>\n      <th>4</th>\n      <td>2019</td>\n      <td>Level 1</td>\n      <td>99999</td>\n      <td>All industries</td>\n      <td>Dollars (millions)</td>\n      <td>H08</td>\n      <td>Total expenditure</td>\n      <td>Financial performance</td>\n      <td>634,710</td>\n      <td>ANZSIC06 divisions A-S (excluding classes K633...</td>\n    </tr>\n    <tr>\n      <th>...</th>\n      <td>...</td>\n      <td>...</td>\n      <td>...</td>\n      <td>...</td>\n      <td>...</td>\n      <td>...</td>\n      <td>...</td>\n      <td>...</td>\n      <td>...</td>\n      <td>...</td>\n    </tr>\n    <tr>\n      <th>32440</th>\n      <td>2013</td>\n      <td>Level 3</td>\n      <td>ZZ11</td>\n      <td>Food product manufacturing</td>\n      <td>Percentage</td>\n      <td>H37</td>\n      <td>Quick ratio</td>\n      <td>Financial ratios</td>\n      <td>52</td>\n      <td>ANZSIC06 groups C111, C112, C113, C114, C115, ...</td>\n    </tr>\n    <tr>\n      <th>32441</th>\n      <td>2013</td>\n      <td>Level 3</td>\n      <td>ZZ11</td>\n      <td>Food product manufacturing</td>\n      <td>Percentage</td>\n      <td>H38</td>\n      <td>Margin on sales of goods for resale</td>\n      <td>Financial ratios</td>\n      <td>40</td>\n      <td>ANZSIC06 groups C111, C112, C113, C114, C115, ...</td>\n    </tr>\n    <tr>\n      <th>32442</th>\n      <td>2013</td>\n      <td>Level 3</td>\n      <td>ZZ11</td>\n      <td>Food product manufacturing</td>\n      <td>Percentage</td>\n      <td>H39</td>\n      <td>Return on equity</td>\n      <td>Financial ratios</td>\n      <td>12</td>\n      <td>ANZSIC06 groups C111, C112, C113, C114, C115, ...</td>\n    </tr>\n    <tr>\n      <th>32443</th>\n      <td>2013</td>\n      <td>Level 3</td>\n      <td>ZZ11</td>\n      <td>Food product manufacturing</td>\n      <td>Percentage</td>\n      <td>H40</td>\n      <td>Return on total assets</td>\n      <td>Financial ratios</td>\n      <td>5</td>\n      <td>ANZSIC06 groups C111, C112, C113, C114, C115, ...</td>\n    </tr>\n    <tr>\n      <th>32444</th>\n      <td>2013</td>\n      <td>Level 3</td>\n      <td>ZZ11</td>\n      <td>Food product manufacturing</td>\n      <td>Percentage</td>\n      <td>H41</td>\n      <td>Liabilities structure</td>\n      <td>Financial ratios</td>\n      <td>46</td>\n      <td>ANZSIC06 groups C111, C112, C113, C114, C115, ...</td>\n    </tr>\n  </tbody>\n</table>\n<p>32445 rows × 10 columns</p>\n</div>"
     },
     "metadata": {},
     "execution_count": 68
    }
   ],
   "source": [
    "survey.loc[survey.Value.notnull()]"
   ]
  },
  {
   "cell_type": "markdown",
   "metadata": {},
   "source": [
    "# Assigning Values "
   ]
  },
  {
   "cell_type": "code",
   "execution_count": 69,
   "metadata": {},
   "outputs": [],
   "source": [
    "survey.Year = 5555"
   ]
  },
  {
   "cell_type": "code",
   "execution_count": 70,
   "metadata": {},
   "outputs": [
    {
     "output_type": "execute_result",
     "data": {
      "text/plain": "0        5555\n1        5555\n2        5555\n3        5555\n4        5555\n         ... \n32440    5555\n32441    5555\n32442    5555\n32443    5555\n32444    5555\nName: Year, Length: 32445, dtype: int64"
     },
     "metadata": {},
     "execution_count": 70
    }
   ],
   "source": [
    "survey.Year"
   ]
  },
  {
   "cell_type": "markdown",
   "metadata": {},
   "source": [
    "Or iterable values "
   ]
  },
  {
   "cell_type": "code",
   "execution_count": 71,
   "metadata": {},
   "outputs": [],
   "source": [
    "survey.Year = range(len(survey),0,-1) # value from len(survey) to 0 with difference of -1"
   ]
  },
  {
   "cell_type": "code",
   "execution_count": 72,
   "metadata": {},
   "outputs": [
    {
     "output_type": "execute_result",
     "data": {
      "text/plain": "0        32445\n1        32444\n2        32443\n3        32442\n4        32441\n         ...  \n32440        5\n32441        4\n32442        3\n32443        2\n32444        1\nName: Year, Length: 32445, dtype: int32"
     },
     "metadata": {},
     "execution_count": 72
    }
   ],
   "source": [
    "survey.Year"
   ]
  },
  {
   "cell_type": "code",
   "execution_count": null,
   "metadata": {},
   "outputs": [],
   "source": []
  }
 ]
}