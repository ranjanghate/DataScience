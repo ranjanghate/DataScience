{
 "metadata": {
  "language_info": {
   "codemirror_mode": {
    "name": "ipython",
    "version": 3
   },
   "file_extension": ".py",
   "mimetype": "text/x-python",
   "name": "python",
   "nbconvert_exporter": "python",
   "pygments_lexer": "ipython3",
   "version": "3.7.4-final"
  },
  "orig_nbformat": 2,
  "kernelspec": {
   "name": "python37432bit4906a1d8ea384477a0e72c565e5d9cfa",
   "display_name": "Python 3.7.4 32-bit"
  }
 },
 "nbformat": 4,
 "nbformat_minor": 2,
 "cells": [
  {
   "cell_type": "code",
   "execution_count": 14,
   "metadata": {},
   "outputs": [],
   "source": [
    "import pandas as pd\n"
   ]
  },
  {
   "cell_type": "markdown",
   "metadata": {},
   "source": [
    "# Summary Function"
   ]
  },
  {
   "cell_type": "code",
   "execution_count": 15,
   "metadata": {},
   "outputs": [],
   "source": [
    "survey = pd.read_csv(\"survey.csv\")"
   ]
  },
  {
   "cell_type": "code",
   "execution_count": 16,
   "metadata": {},
   "outputs": [
    {
     "output_type": "execute_result",
     "data": {
      "text/plain": "count    32445.000000\nmean      2016.000000\nstd          2.000031\nmin       2013.000000\n25%       2014.000000\n50%       2016.000000\n75%       2018.000000\nmax       2019.000000\nName: Year, dtype: float64"
     },
     "metadata": {},
     "execution_count": 16
    }
   ],
   "source": [
    "survey.Year.describe()"
   ]
  },
  {
   "cell_type": "code",
   "execution_count": 17,
   "metadata": {},
   "outputs": [
    {
     "output_type": "execute_result",
     "data": {
      "text/plain": "2016.0"
     },
     "metadata": {},
     "execution_count": 17
    }
   ],
   "source": [
    "survey.Year.mean() # returns the mean value of all values present in Year column"
   ]
  },
  {
   "cell_type": "markdown",
   "metadata": {},
   "source": [
    "# Map"
   ]
  },
  {
   "cell_type": "markdown",
   "metadata": {},
   "source": [
    "A map is a term, borrowed from mathematics, for a function that takes one set of values and \"maps\" them to another set of values.<br>\n",
    "There are two mapping methods that you will use often <br>\n",
    "1. map()<br>\n",
    "2. apply()"
   ]
  },
  {
   "cell_type": "code",
   "execution_count": 18,
   "metadata": {},
   "outputs": [
    {
     "output_type": "execute_result",
     "data": {
      "text/plain": "0        3.0\n1        3.0\n2        3.0\n3        3.0\n4        3.0\n        ... \n32440   -3.0\n32441   -3.0\n32442   -3.0\n32443   -3.0\n32444   -3.0\nName: Year, Length: 32445, dtype: float64"
     },
     "metadata": {},
     "execution_count": 18
    }
   ],
   "source": [
    "mean_value = survey.Year.mean()\n",
    "survey.Year.map(lambda x:x-mean_value)"
   ]
  },
  {
   "cell_type": "markdown",
   "metadata": {},
   "source": [
    "**apply() method**"
   ]
  },
  {
   "cell_type": "code",
   "execution_count": 21,
   "metadata": {},
   "outputs": [
    {
     "output_type": "execute_result",
     "data": {
      "text/plain": "       Year Industry_aggregation_NZSIOC Industry_code_NZSIOC  \\\n0       3.0                     Level 1                99999   \n1       3.0                     Level 1                99999   \n2       3.0                     Level 1                99999   \n3       3.0                     Level 1                99999   \n4       3.0                     Level 1                99999   \n...     ...                         ...                  ...   \n32440  -3.0                     Level 3                 ZZ11   \n32441  -3.0                     Level 3                 ZZ11   \n32442  -3.0                     Level 3                 ZZ11   \n32443  -3.0                     Level 3                 ZZ11   \n32444  -3.0                     Level 3                 ZZ11   \n\n             Industry_name_NZSIOC               Units Variable_code  \\\n0                  All industries  Dollars (millions)           H01   \n1                  All industries  Dollars (millions)           H04   \n2                  All industries  Dollars (millions)           H05   \n3                  All industries  Dollars (millions)           H07   \n4                  All industries  Dollars (millions)           H08   \n...                           ...                 ...           ...   \n32440  Food product manufacturing          Percentage           H37   \n32441  Food product manufacturing          Percentage           H38   \n32442  Food product manufacturing          Percentage           H39   \n32443  Food product manufacturing          Percentage           H40   \n32444  Food product manufacturing          Percentage           H41   \n\n                                         Variable_name      Variable_category  \\\n0                                         Total income  Financial performance   \n1      Sales, government funding, grants and subsidies  Financial performance   \n2                    Interest, dividends and donations  Financial performance   \n3                                 Non-operating income  Financial performance   \n4                                    Total expenditure  Financial performance   \n...                                                ...                    ...   \n32440                                      Quick ratio       Financial ratios   \n32441              Margin on sales of goods for resale       Financial ratios   \n32442                                 Return on equity       Financial ratios   \n32443                           Return on total assets       Financial ratios   \n32444                            Liabilities structure       Financial ratios   \n\n         Value                             Industry_code_ANZSIC06  \n0      728,239  ANZSIC06 divisions A-S (excluding classes K633...  \n1      643,809  ANZSIC06 divisions A-S (excluding classes K633...  \n2       62,924  ANZSIC06 divisions A-S (excluding classes K633...  \n3       21,505  ANZSIC06 divisions A-S (excluding classes K633...  \n4      634,710  ANZSIC06 divisions A-S (excluding classes K633...  \n...        ...                                                ...  \n32440       52  ANZSIC06 groups C111, C112, C113, C114, C115, ...  \n32441       40  ANZSIC06 groups C111, C112, C113, C114, C115, ...  \n32442       12  ANZSIC06 groups C111, C112, C113, C114, C115, ...  \n32443        5  ANZSIC06 groups C111, C112, C113, C114, C115, ...  \n32444       46  ANZSIC06 groups C111, C112, C113, C114, C115, ...  \n\n[32445 rows x 10 columns]",
      "text/html": "<div>\n<style scoped>\n    .dataframe tbody tr th:only-of-type {\n        vertical-align: middle;\n    }\n\n    .dataframe tbody tr th {\n        vertical-align: top;\n    }\n\n    .dataframe thead th {\n        text-align: right;\n    }\n</style>\n<table border=\"1\" class=\"dataframe\">\n  <thead>\n    <tr style=\"text-align: right;\">\n      <th></th>\n      <th>Year</th>\n      <th>Industry_aggregation_NZSIOC</th>\n      <th>Industry_code_NZSIOC</th>\n      <th>Industry_name_NZSIOC</th>\n      <th>Units</th>\n      <th>Variable_code</th>\n      <th>Variable_name</th>\n      <th>Variable_category</th>\n      <th>Value</th>\n      <th>Industry_code_ANZSIC06</th>\n    </tr>\n  </thead>\n  <tbody>\n    <tr>\n      <th>0</th>\n      <td>3.0</td>\n      <td>Level 1</td>\n      <td>99999</td>\n      <td>All industries</td>\n      <td>Dollars (millions)</td>\n      <td>H01</td>\n      <td>Total income</td>\n      <td>Financial performance</td>\n      <td>728,239</td>\n      <td>ANZSIC06 divisions A-S (excluding classes K633...</td>\n    </tr>\n    <tr>\n      <th>1</th>\n      <td>3.0</td>\n      <td>Level 1</td>\n      <td>99999</td>\n      <td>All industries</td>\n      <td>Dollars (millions)</td>\n      <td>H04</td>\n      <td>Sales, government funding, grants and subsidies</td>\n      <td>Financial performance</td>\n      <td>643,809</td>\n      <td>ANZSIC06 divisions A-S (excluding classes K633...</td>\n    </tr>\n    <tr>\n      <th>2</th>\n      <td>3.0</td>\n      <td>Level 1</td>\n      <td>99999</td>\n      <td>All industries</td>\n      <td>Dollars (millions)</td>\n      <td>H05</td>\n      <td>Interest, dividends and donations</td>\n      <td>Financial performance</td>\n      <td>62,924</td>\n      <td>ANZSIC06 divisions A-S (excluding classes K633...</td>\n    </tr>\n    <tr>\n      <th>3</th>\n      <td>3.0</td>\n      <td>Level 1</td>\n      <td>99999</td>\n      <td>All industries</td>\n      <td>Dollars (millions)</td>\n      <td>H07</td>\n      <td>Non-operating income</td>\n      <td>Financial performance</td>\n      <td>21,505</td>\n      <td>ANZSIC06 divisions A-S (excluding classes K633...</td>\n    </tr>\n    <tr>\n      <th>4</th>\n      <td>3.0</td>\n      <td>Level 1</td>\n      <td>99999</td>\n      <td>All industries</td>\n      <td>Dollars (millions)</td>\n      <td>H08</td>\n      <td>Total expenditure</td>\n      <td>Financial performance</td>\n      <td>634,710</td>\n      <td>ANZSIC06 divisions A-S (excluding classes K633...</td>\n    </tr>\n    <tr>\n      <th>...</th>\n      <td>...</td>\n      <td>...</td>\n      <td>...</td>\n      <td>...</td>\n      <td>...</td>\n      <td>...</td>\n      <td>...</td>\n      <td>...</td>\n      <td>...</td>\n      <td>...</td>\n    </tr>\n    <tr>\n      <th>32440</th>\n      <td>-3.0</td>\n      <td>Level 3</td>\n      <td>ZZ11</td>\n      <td>Food product manufacturing</td>\n      <td>Percentage</td>\n      <td>H37</td>\n      <td>Quick ratio</td>\n      <td>Financial ratios</td>\n      <td>52</td>\n      <td>ANZSIC06 groups C111, C112, C113, C114, C115, ...</td>\n    </tr>\n    <tr>\n      <th>32441</th>\n      <td>-3.0</td>\n      <td>Level 3</td>\n      <td>ZZ11</td>\n      <td>Food product manufacturing</td>\n      <td>Percentage</td>\n      <td>H38</td>\n      <td>Margin on sales of goods for resale</td>\n      <td>Financial ratios</td>\n      <td>40</td>\n      <td>ANZSIC06 groups C111, C112, C113, C114, C115, ...</td>\n    </tr>\n    <tr>\n      <th>32442</th>\n      <td>-3.0</td>\n      <td>Level 3</td>\n      <td>ZZ11</td>\n      <td>Food product manufacturing</td>\n      <td>Percentage</td>\n      <td>H39</td>\n      <td>Return on equity</td>\n      <td>Financial ratios</td>\n      <td>12</td>\n      <td>ANZSIC06 groups C111, C112, C113, C114, C115, ...</td>\n    </tr>\n    <tr>\n      <th>32443</th>\n      <td>-3.0</td>\n      <td>Level 3</td>\n      <td>ZZ11</td>\n      <td>Food product manufacturing</td>\n      <td>Percentage</td>\n      <td>H40</td>\n      <td>Return on total assets</td>\n      <td>Financial ratios</td>\n      <td>5</td>\n      <td>ANZSIC06 groups C111, C112, C113, C114, C115, ...</td>\n    </tr>\n    <tr>\n      <th>32444</th>\n      <td>-3.0</td>\n      <td>Level 3</td>\n      <td>ZZ11</td>\n      <td>Food product manufacturing</td>\n      <td>Percentage</td>\n      <td>H41</td>\n      <td>Liabilities structure</td>\n      <td>Financial ratios</td>\n      <td>46</td>\n      <td>ANZSIC06 groups C111, C112, C113, C114, C115, ...</td>\n    </tr>\n  </tbody>\n</table>\n<p>32445 rows × 10 columns</p>\n</div>"
     },
     "metadata": {},
     "execution_count": 21
    }
   ],
   "source": [
    "def change_mean_year(row) :\n",
    "    row.Year = row.Year - mean_value\n",
    "    return row\n",
    "survey.apply(change_mean_year,axis=\"columns\")\n"
   ]
  },
  {
   "cell_type": "markdown",
   "metadata": {},
   "source": [
    "If we had called reviews.apply() with axis='index', then instead of passing a function to transform each row, we would need to give a function to transform each column."
   ]
  },
  {
   "cell_type": "code",
   "execution_count": 22,
   "metadata": {},
   "outputs": [
    {
     "output_type": "execute_result",
     "data": {
      "text/plain": "0        3.0\n1        3.0\n2        3.0\n3        3.0\n4        3.0\n        ... \n32440   -3.0\n32441   -3.0\n32442   -3.0\n32443   -3.0\n32444   -3.0\nName: Year, Length: 32445, dtype: float64"
     },
     "metadata": {},
     "execution_count": 22
    }
   ],
   "source": [
    "survey_year_mean = survey.Year.mean()\n",
    "survey.Year-survey_year_mean"
   ]
  },
  {
   "cell_type": "markdown",
   "metadata": {},
   "source": [
    "## using sum builtin mapping functions\n",
    "> builtin functions are faster than map() and apply() methods"
   ]
  },
  {
   "cell_type": "code",
   "execution_count": 25,
   "metadata": {},
   "outputs": [
    {
     "output_type": "execute_result",
     "data": {
      "text/plain": "0        3.0\n1        3.0\n2        3.0\n3        3.0\n4        3.0\n        ... \n32440   -3.0\n32441   -3.0\n32442   -3.0\n32443   -3.0\n32444   -3.0\nName: Year, Length: 32445, dtype: float64"
     },
     "metadata": {},
     "execution_count": 25
    }
   ],
   "source": [
    "survey_year_mean = survey.Year.mean()\n",
    "survey.Year - survey_year_mean"
   ]
  },
  {
   "cell_type": "code",
   "execution_count": 26,
   "metadata": {},
   "outputs": [
    {
     "output_type": "execute_result",
     "data": {
      "text/plain": "0        Dollars (millions)-H01\n1        Dollars (millions)-H04\n2        Dollars (millions)-H05\n3        Dollars (millions)-H07\n4        Dollars (millions)-H08\n                  ...          \n32440            Percentage-H37\n32441            Percentage-H38\n32442            Percentage-H39\n32443            Percentage-H40\n32444            Percentage-H41\nLength: 32445, dtype: object"
     },
     "metadata": {},
     "execution_count": 26
    }
   ],
   "source": [
    "survey.Units+\"-\"+survey.Variable_code"
   ]
  },
  {
   "cell_type": "code",
   "execution_count": null,
   "metadata": {},
   "outputs": [],
   "source": []
  }
 ]
}