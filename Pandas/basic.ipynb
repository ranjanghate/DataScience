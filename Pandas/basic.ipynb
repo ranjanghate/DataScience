{
 "metadata": {
  "language_info": {
   "codemirror_mode": {
    "name": "ipython",
    "version": 3
   },
   "file_extension": ".py",
   "mimetype": "text/x-python",
   "name": "python",
   "nbconvert_exporter": "python",
   "pygments_lexer": "ipython3",
   "version": "3.7.4-final"
  },
  "orig_nbformat": 2,
  "kernelspec": {
   "name": "python37432bit4906a1d8ea384477a0e72c565e5d9cfa",
   "display_name": "Python 3.7.4 32-bit"
  }
 },
 "nbformat": 4,
 "nbformat_minor": 2,
 "cells": [
  {
   "cell_type": "code",
   "execution_count": 1,
   "metadata": {},
   "outputs": [],
   "source": [
    "import pandas  as pd "
   ]
  },
  {
   "cell_type": "markdown",
   "metadata": {},
   "source": [
    "There are two core objects in pandas: the DataFrame and the Series.\n"
   ]
  },
  {
   "cell_type": "markdown",
   "metadata": {},
   "source": [
    "# DataFrame<br>\n",
    "A DataFrame is a table. It contains an array of individual entries, each of which has a certain value. Each entry corresponds to a row (or record) and a column."
   ]
  },
  {
   "cell_type": "code",
   "execution_count": 2,
   "metadata": {},
   "outputs": [
    {
     "output_type": "execute_result",
     "data": {
      "text/plain": "   Yes   No\n0   50  131\n1   21    2",
      "text/html": "<div>\n<style scoped>\n    .dataframe tbody tr th:only-of-type {\n        vertical-align: middle;\n    }\n\n    .dataframe tbody tr th {\n        vertical-align: top;\n    }\n\n    .dataframe thead th {\n        text-align: right;\n    }\n</style>\n<table border=\"1\" class=\"dataframe\">\n  <thead>\n    <tr style=\"text-align: right;\">\n      <th></th>\n      <th>Yes</th>\n      <th>No</th>\n    </tr>\n  </thead>\n  <tbody>\n    <tr>\n      <th>0</th>\n      <td>50</td>\n      <td>131</td>\n    </tr>\n    <tr>\n      <th>1</th>\n      <td>21</td>\n      <td>2</td>\n    </tr>\n  </tbody>\n</table>\n</div>"
     },
     "metadata": {},
     "execution_count": 2
    }
   ],
   "source": [
    "pd.DataFrame({'Yes': [50, 21], 'No': [131, 2]})"
   ]
  },
  {
   "cell_type": "markdown",
   "metadata": {},
   "source": [
    "DataFrame entries are not limited to integers. For instance, here's a DataFrame whose values are strings:"
   ]
  },
  {
   "cell_type": "code",
   "execution_count": 4,
   "metadata": {},
   "outputs": [
    {
     "output_type": "execute_result",
     "data": {
      "text/plain": "             Bob           Sue\n0    I liked it.  Pretty good.\n1  It was awful.        Bland.",
      "text/html": "<div>\n<style scoped>\n    .dataframe tbody tr th:only-of-type {\n        vertical-align: middle;\n    }\n\n    .dataframe tbody tr th {\n        vertical-align: top;\n    }\n\n    .dataframe thead th {\n        text-align: right;\n    }\n</style>\n<table border=\"1\" class=\"dataframe\">\n  <thead>\n    <tr style=\"text-align: right;\">\n      <th></th>\n      <th>Bob</th>\n      <th>Sue</th>\n    </tr>\n  </thead>\n  <tbody>\n    <tr>\n      <th>0</th>\n      <td>I liked it.</td>\n      <td>Pretty good.</td>\n    </tr>\n    <tr>\n      <th>1</th>\n      <td>It was awful.</td>\n      <td>Bland.</td>\n    </tr>\n  </tbody>\n</table>\n</div>"
     },
     "metadata": {},
     "execution_count": 4
    }
   ],
   "source": [
    "pd.DataFrame({'Bob': ['I liked it.', 'It was awful.'], 'Sue': ['Pretty good.', 'Bland.']})\n"
   ]
  },
  {
   "cell_type": "markdown",
   "metadata": {},
   "source": [
    "The dictionary-list constructer assign value to column label , but just uses count from 0 for the row label.<br>\n",
    "To change the row labels we use **index**"
   ]
  },
  {
   "cell_type": "code",
   "execution_count": 5,
   "metadata": {},
   "outputs": [
    {
     "output_type": "execute_result",
     "data": {
      "text/plain": "                     Bob           Sue\nProduct A    I liked it.  Pretty good.\nProduct B  It was awful.        Bland.",
      "text/html": "<div>\n<style scoped>\n    .dataframe tbody tr th:only-of-type {\n        vertical-align: middle;\n    }\n\n    .dataframe tbody tr th {\n        vertical-align: top;\n    }\n\n    .dataframe thead th {\n        text-align: right;\n    }\n</style>\n<table border=\"1\" class=\"dataframe\">\n  <thead>\n    <tr style=\"text-align: right;\">\n      <th></th>\n      <th>Bob</th>\n      <th>Sue</th>\n    </tr>\n  </thead>\n  <tbody>\n    <tr>\n      <th>Product A</th>\n      <td>I liked it.</td>\n      <td>Pretty good.</td>\n    </tr>\n    <tr>\n      <th>Product B</th>\n      <td>It was awful.</td>\n      <td>Bland.</td>\n    </tr>\n  </tbody>\n</table>\n</div>"
     },
     "metadata": {},
     "execution_count": 5
    }
   ],
   "source": [
    "pd.DataFrame({'Bob': ['I liked it.', 'It was awful.'], 'Sue': ['Pretty good.', 'Bland.']},index=['Product A', 'Product B'])\n"
   ]
  },
  {
   "cell_type": "markdown",
   "metadata": {},
   "source": [
    "**Series**<br>\n",
    "A Series, by contrast, is a sequence of data values. If a DataFrame is a table, a Series is a list. And in fact you can create one with nothing more than a list:"
   ]
  },
  {
   "cell_type": "code",
   "execution_count": 7,
   "metadata": {},
   "outputs": [
    {
     "output_type": "execute_result",
     "data": {
      "text/plain": "0    1\n1    2\n2    3\n3    4\n4    5\ndtype: int64"
     },
     "metadata": {},
     "execution_count": 7
    }
   ],
   "source": [
    "pd.Series([1, 2, 3, 4, 5])"
   ]
  },
  {
   "cell_type": "markdown",
   "metadata": {},
   "source": [
    "# Series\n",
    "A Series is, in essence, a single column of a DataFrame. So you can assign column values to the Series the same way as before, using an index parameter. However, a Series does not have a column name, it only has one overall name"
   ]
  },
  {
   "cell_type": "code",
   "execution_count": 8,
   "metadata": {},
   "outputs": [
    {
     "output_type": "execute_result",
     "data": {
      "text/plain": "2015 Sales    30\n2016 Sales    35\n2017 Sales    40\nName: Product A, dtype: int64"
     },
     "metadata": {},
     "execution_count": 8
    }
   ],
   "source": [
    "pd.Series([30, 35, 40], index=['2015 Sales', '2016 Sales', '2017 Sales'], name='Product A')"
   ]
  },
  {
   "cell_type": "markdown",
   "metadata": {},
   "source": [
    "# Read a data files "
   ]
  },
  {
   "cell_type": "markdown",
   "metadata": {},
   "source": [
    "Data can be stored in any of a number of different forms and formats. By far the most basic of these is the humble CSV file. So a CSV file is a table of values separated by commas. Hence the name: \"Comma-Separated Values\", or CSV."
   ]
  },
  {
   "cell_type": "code",
   "execution_count": 9,
   "metadata": {},
   "outputs": [],
   "source": [
    "survey = pd.read_csv(\"survey.csv\")"
   ]
  },
  {
   "cell_type": "markdown",
   "metadata": {},
   "source": [
    "we use shape to attribute to know the size of Data Frame"
   ]
  },
  {
   "cell_type": "code",
   "execution_count": 10,
   "metadata": {},
   "outputs": [
    {
     "output_type": "execute_result",
     "data": {
      "text/plain": "(32445, 10)"
     },
     "metadata": {},
     "execution_count": 10
    }
   ],
   "source": [
    "survey.shape"
   ]
  },
  {
   "cell_type": "markdown",
   "metadata": {},
   "source": [
    "We use head method to know the first 5 row of a Data Frame"
   ]
  },
  {
   "cell_type": "code",
   "execution_count": 11,
   "metadata": {},
   "outputs": [
    {
     "output_type": "execute_result",
     "data": {
      "text/plain": "   Year Industry_aggregation_NZSIOC Industry_code_NZSIOC Industry_name_NZSIOC  \\\n0  2019                     Level 1                99999       All industries   \n1  2019                     Level 1                99999       All industries   \n2  2019                     Level 1                99999       All industries   \n3  2019                     Level 1                99999       All industries   \n4  2019                     Level 1                99999       All industries   \n\n                Units Variable_code  \\\n0  Dollars (millions)           H01   \n1  Dollars (millions)           H04   \n2  Dollars (millions)           H05   \n3  Dollars (millions)           H07   \n4  Dollars (millions)           H08   \n\n                                     Variable_name      Variable_category  \\\n0                                     Total income  Financial performance   \n1  Sales, government funding, grants and subsidies  Financial performance   \n2                Interest, dividends and donations  Financial performance   \n3                             Non-operating income  Financial performance   \n4                                Total expenditure  Financial performance   \n\n     Value                             Industry_code_ANZSIC06  \n0  728,239  ANZSIC06 divisions A-S (excluding classes K633...  \n1  643,809  ANZSIC06 divisions A-S (excluding classes K633...  \n2   62,924  ANZSIC06 divisions A-S (excluding classes K633...  \n3   21,505  ANZSIC06 divisions A-S (excluding classes K633...  \n4  634,710  ANZSIC06 divisions A-S (excluding classes K633...  ",
      "text/html": "<div>\n<style scoped>\n    .dataframe tbody tr th:only-of-type {\n        vertical-align: middle;\n    }\n\n    .dataframe tbody tr th {\n        vertical-align: top;\n    }\n\n    .dataframe thead th {\n        text-align: right;\n    }\n</style>\n<table border=\"1\" class=\"dataframe\">\n  <thead>\n    <tr style=\"text-align: right;\">\n      <th></th>\n      <th>Year</th>\n      <th>Industry_aggregation_NZSIOC</th>\n      <th>Industry_code_NZSIOC</th>\n      <th>Industry_name_NZSIOC</th>\n      <th>Units</th>\n      <th>Variable_code</th>\n      <th>Variable_name</th>\n      <th>Variable_category</th>\n      <th>Value</th>\n      <th>Industry_code_ANZSIC06</th>\n    </tr>\n  </thead>\n  <tbody>\n    <tr>\n      <th>0</th>\n      <td>2019</td>\n      <td>Level 1</td>\n      <td>99999</td>\n      <td>All industries</td>\n      <td>Dollars (millions)</td>\n      <td>H01</td>\n      <td>Total income</td>\n      <td>Financial performance</td>\n      <td>728,239</td>\n      <td>ANZSIC06 divisions A-S (excluding classes K633...</td>\n    </tr>\n    <tr>\n      <th>1</th>\n      <td>2019</td>\n      <td>Level 1</td>\n      <td>99999</td>\n      <td>All industries</td>\n      <td>Dollars (millions)</td>\n      <td>H04</td>\n      <td>Sales, government funding, grants and subsidies</td>\n      <td>Financial performance</td>\n      <td>643,809</td>\n      <td>ANZSIC06 divisions A-S (excluding classes K633...</td>\n    </tr>\n    <tr>\n      <th>2</th>\n      <td>2019</td>\n      <td>Level 1</td>\n      <td>99999</td>\n      <td>All industries</td>\n      <td>Dollars (millions)</td>\n      <td>H05</td>\n      <td>Interest, dividends and donations</td>\n      <td>Financial performance</td>\n      <td>62,924</td>\n      <td>ANZSIC06 divisions A-S (excluding classes K633...</td>\n    </tr>\n    <tr>\n      <th>3</th>\n      <td>2019</td>\n      <td>Level 1</td>\n      <td>99999</td>\n      <td>All industries</td>\n      <td>Dollars (millions)</td>\n      <td>H07</td>\n      <td>Non-operating income</td>\n      <td>Financial performance</td>\n      <td>21,505</td>\n      <td>ANZSIC06 divisions A-S (excluding classes K633...</td>\n    </tr>\n    <tr>\n      <th>4</th>\n      <td>2019</td>\n      <td>Level 1</td>\n      <td>99999</td>\n      <td>All industries</td>\n      <td>Dollars (millions)</td>\n      <td>H08</td>\n      <td>Total expenditure</td>\n      <td>Financial performance</td>\n      <td>634,710</td>\n      <td>ANZSIC06 divisions A-S (excluding classes K633...</td>\n    </tr>\n  </tbody>\n</table>\n</div>"
     },
     "metadata": {},
     "execution_count": 11
    }
   ],
   "source": [
    "survey.head()"
   ]
  },
  {
   "cell_type": "code",
   "execution_count": null,
   "metadata": {},
   "outputs": [],
   "source": []
  }
 ]
}